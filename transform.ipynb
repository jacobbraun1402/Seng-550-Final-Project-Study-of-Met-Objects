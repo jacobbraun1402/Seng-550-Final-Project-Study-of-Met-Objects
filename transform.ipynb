{
 "cells": [
  {
   "cell_type": "code",
   "execution_count": 169,
   "metadata": {},
   "outputs": [
    {
     "name": "stderr",
     "output_type": "stream",
     "text": [
      "/Library/Frameworks/Python.framework/Versions/3.11/lib/python3.11/site-packages/pyspark/pandas/__init__.py:50: UserWarning: 'PYARROW_IGNORE_TIMEZONE' environment variable was not set. It is required to set this environment variable to '1' in both driver and executor sides if you use pyarrow>=2.0.0. pandas-on-Spark will set it for you but it does not work if there is a Spark context already launched.\n",
      "  warnings.warn(\n"
     ]
    }
   ],
   "source": [
    "from pyspark.sql import SparkSession\n",
    "import os\n",
    "import subprocess\n",
    "from pyspark.sql.functions import col, udf\n",
    "from pyspark.sql.types import IntegerType\n",
    "import pyspark.pandas as ps"
   ]
  },
  {
   "cell_type": "code",
   "execution_count": 3,
   "metadata": {},
   "outputs": [
    {
     "name": "stderr",
     "output_type": "stream",
     "text": [
      "24/12/18 12:09:16 WARN SparkSession: Using an existing Spark session; only runtime SQL configurations will take effect.\n"
     ]
    }
   ],
   "source": [
    "spark = SparkSession.builder.master(\"local[4]\").appName(\"Transform\").config(\"spark.ui.port\", '4050').getOrCreate()\n",
    "sc = spark.sparkContext"
   ]
  },
  {
   "cell_type": "code",
   "execution_count": 32,
   "metadata": {},
   "outputs": [],
   "source": [
    "fileName = subprocess.check_output('ls extractedDataset | grep \".*.csv\"', shell=True, text=True).removesuffix('\\n')\n",
    "path = os.getcwd() + \"/extractedDataset/\" + fileName\n",
    "df = spark.read.csv(path, header=True, nullValue='')"
   ]
  },
  {
   "cell_type": "code",
   "execution_count": 35,
   "metadata": {},
   "outputs": [
    {
     "name": "stdout",
     "output_type": "stream",
     "text": [
      "+-------------+------------+-----------------+--------------------+-----------------+-----------+--------------+-------------+--------+---------------+\n",
      "|accessionYear|artistGender|artistNationality|             culture|       department|isHighlight|isTimelineWork|objectEndDate|objectID|     objectName|\n",
      "+-------------+------------+-----------------+--------------------+-----------------+-----------+--------------+-------------+--------+---------------+\n",
      "|         1979|        NULL|         American|                NULL|The American Wing|      false|         false|         1907|      14|           Coin|\n",
      "|         1989|        NULL|         American|            American|The American Wing|      false|         false|         1814|     108|        Andiron|\n",
      "|         1946|        NULL|             NULL|                NULL|The American Wing|      false|         false|         1890|     366|         Basket|\n",
      "|         1946|        NULL|             NULL|            American|The American Wing|      false|         false|         1870|     540| Bitters bottle|\n",
      "|         1937|        NULL|             NULL|            American|The American Wing|      false|         false|         1800|     653|Bottle fragment|\n",
      "|         1946|        NULL|         American|            American|The American Wing|      false|         false|         1880|     779|           Bowl|\n",
      "|         1910|        NULL|             NULL|Chinese, for Amer...|The American Wing|      false|         false|         1790|     856|           Bowl|\n",
      "|         1910|        NULL|             NULL|Chinese, for Amer...|The American Wing|      false|         false|         1790|     867|           Bowl|\n",
      "|         1917|        NULL|             NULL|             Mexican|The American Wing|      false|         false|         1845|     895|            Cup|\n",
      "|         1883|        NULL|             NULL|                NULL|The American Wing|      false|         false|         1800|     906|            Box|\n",
      "|         1973|        NULL|             NULL|            American|The American Wing|      false|         false|         1896|    2791|            Cup|\n",
      "|         1910|        NULL|             NULL|Chinese, for Amer...|The American Wing|      false|         false|         1790|     992|    Bread plate|\n",
      "|         1934|        NULL|             NULL|            American|The American Wing|      false|         false|         1790|    1054|    Butter mold|\n",
      "|         1965|        NULL|             NULL|            American|The American Wing|      false|         false|         1820|    1906|     Side Chair|\n",
      "|         1950|        NULL|         American|            American|The American Wing|      false|         false|         1889|    1919|        Drawing|\n",
      "|         1910|        NULL|             NULL|                NULL|The American Wing|      false|         false|         1800|    2066|          Churn|\n",
      "|         1946|        NULL|             NULL|            American|The American Wing|      false|         false|         1890|    2687|      Cream pot|\n",
      "|         1969|        NULL|         American|            American|The American Wing|      false|         false|         1885|    4905| Luncheon plate|\n",
      "|         1946|        NULL|         American|            American|The American Wing|      false|         false|         1798|    4935|         Mantel|\n",
      "|         1883|        NULL|           French|                NULL|The American Wing|      false|         false|         1830|    4954|          Medal|\n",
      "+-------------+------------+-----------------+--------------------+-----------------+-----------+--------------+-------------+--------+---------------+\n",
      "only showing top 20 rows\n",
      "\n",
      "None\n"
     ]
    }
   ],
   "source": [
    "print(df.show())"
   ]
  },
  {
   "cell_type": "code",
   "execution_count": 37,
   "metadata": {},
   "outputs": [
    {
     "name": "stderr",
     "output_type": "stream",
     "text": [
      "24/12/18 13:49:58 WARN SparkStringUtils: Truncated the string representation of a plan since it was too large. This behavior can be adjusted by setting 'spark.sql.debug.maxToStringFields'.\n"
     ]
    },
    {
     "name": "stdout",
     "output_type": "stream",
     "text": [
      "+-------+------------------+------------+-----------------+-----------------+--------------------+-----------+--------------+------------------+------------------+--------------------+\n",
      "|summary|     accessionYear|artistGender|artistNationality|          culture|          department|isHighlight|isTimelineWork|     objectEndDate|          objectID|          objectName|\n",
      "+-------+------------------+------------+-----------------+-----------------+--------------------+-----------+--------------+------------------+------------------+--------------------+\n",
      "|  count|              5028|         128|             2671|             1690|                5048|       5048|          5048|              5048|              5048|                5027|\n",
      "|   mean|1956.0318915686664|        NULL|             NULL|             NULL|                NULL|       NULL|          NULL|1411.4724643423137| 403327.7834786054|                NULL|\n",
      "| stddev| 35.73250594529043|        NULL|             NULL|             NULL|                NULL|       NULL|          NULL|  982.326369053752|246533.23984043233|                NULL|\n",
      "|    min|              1872|      Female|          Afghani|       Achaemenid|Ancient Near East...|      false|         false|                -1|             10023|\"Shield frieze\" F...|\n",
      "|    max|             Print|      Female|       Venezuelan|probably Peruvian|The Michael C. Ro...|       true|          true|               999|             99573|                Étui|\n",
      "+-------+------------------+------------+-----------------+-----------------+--------------------+-----------+--------------+------------------+------------------+--------------------+\n",
      "\n",
      "None\n"
     ]
    }
   ],
   "source": [
    "print(df.describe().show())"
   ]
  },
  {
   "cell_type": "code",
   "execution_count": null,
   "metadata": {},
   "outputs": [],
   "source": [
    "#create custom function to convert gender column to boolean indicating if artist is female\n",
    "# 0=Male, 1=Female\n",
    "# in the database, they only store a value in the gender field if the artist is female\n",
    "# otherwise it is null\n",
    "def convertGender(s):\n",
    "    if s == 'male':\n",
    "        return 0\n",
    "    else:\n",
    "        return 1\n",
    "# register user defined functions\n",
    "convertGenderUDF = udf(lambda x:convertGender(x), IntegerType())\n",
    "\n",
    "# take artistGender column, apply user-defined function to columns and put it in new column \n",
    "def genderColumn(df):\n",
    "    # change nulls to male here because I don't know what datatype spark uses to represent nulls\n",
    "    # So I cant detect if a value is null when I'm applying convertGender to each individual value in the column\n",
    "    x = df.na.fill(value='male', subset=['artistGender'])\n",
    "    # create new column that is made from applying the custom function to the gender column\n",
    "    x = x.withColumn(\"isFemale\", convertGenderUDF(col(\"artistGender\")))\n",
    "    x = x.drop(col(\"artistGender\"))\n",
    "    return x"
   ]
  },
  {
   "cell_type": "code",
   "execution_count": null,
   "metadata": {},
   "outputs": [],
   "source": [
    "# create dummy variables for department column\n",
    "# meaning we add a column for each department, in each of these columns,\n",
    "# the value will be 1 if that object is in that department, otherwise it is 0\n",
    "def departmentColumn(df):\n"
   ]
  },
  {
   "cell_type": "code",
   "execution_count": null,
   "metadata": {},
   "outputs": [],
   "source": [
    "def transformDataset(df):\n",
    "    # in the database, they only store a value in the gender field if the artist is female\n",
    "    # otherwise it is null\n",
    "    # if there are multiple artists attributed to an object, the gender of each artist is shown, separated by a '|'\n",
    "    x = genderColumn(df)\n",
    "    # change the department column to a series of dummy variables\n",
    "    # since there are a small number of distinct departments (X)\n",
    "    return x"
   ]
  },
  {
   "cell_type": "code",
   "execution_count": 155,
   "metadata": {},
   "outputs": [
    {
     "name": "stdout",
     "output_type": "stream",
     "text": [
      "+-------------+-----------------+--------------------+-----------------+-----------+--------------+-------------+--------+---------------+--------+\n",
      "|accessionYear|artistNationality|             culture|       department|isHighlight|isTimelineWork|objectEndDate|objectID|     objectName|isFemale|\n",
      "+-------------+-----------------+--------------------+-----------------+-----------+--------------+-------------+--------+---------------+--------+\n",
      "|         1979|         American|                NULL|The American Wing|      false|         false|         1907|      14|           Coin|       0|\n",
      "|         1989|         American|            American|The American Wing|      false|         false|         1814|     108|        Andiron|       0|\n",
      "|         1946|             NULL|                NULL|The American Wing|      false|         false|         1890|     366|         Basket|       0|\n",
      "|         1946|             NULL|            American|The American Wing|      false|         false|         1870|     540| Bitters bottle|       0|\n",
      "|         1937|             NULL|            American|The American Wing|      false|         false|         1800|     653|Bottle fragment|       0|\n",
      "|         1946|         American|            American|The American Wing|      false|         false|         1880|     779|           Bowl|       0|\n",
      "|         1910|             NULL|Chinese, for Amer...|The American Wing|      false|         false|         1790|     856|           Bowl|       0|\n",
      "|         1910|             NULL|Chinese, for Amer...|The American Wing|      false|         false|         1790|     867|           Bowl|       0|\n",
      "|         1917|             NULL|             Mexican|The American Wing|      false|         false|         1845|     895|            Cup|       0|\n",
      "|         1883|             NULL|                NULL|The American Wing|      false|         false|         1800|     906|            Box|       0|\n",
      "|         1973|             NULL|            American|The American Wing|      false|         false|         1896|    2791|            Cup|       0|\n",
      "|         1910|             NULL|Chinese, for Amer...|The American Wing|      false|         false|         1790|     992|    Bread plate|       0|\n",
      "|         1934|             NULL|            American|The American Wing|      false|         false|         1790|    1054|    Butter mold|       0|\n",
      "|         1965|             NULL|            American|The American Wing|      false|         false|         1820|    1906|     Side Chair|       0|\n",
      "|         1950|         American|            American|The American Wing|      false|         false|         1889|    1919|        Drawing|       0|\n",
      "|         1910|             NULL|                NULL|The American Wing|      false|         false|         1800|    2066|          Churn|       0|\n",
      "|         1946|             NULL|            American|The American Wing|      false|         false|         1890|    2687|      Cream pot|       0|\n",
      "|         1969|         American|            American|The American Wing|      false|         false|         1885|    4905| Luncheon plate|       0|\n",
      "|         1946|         American|            American|The American Wing|      false|         false|         1798|    4935|         Mantel|       0|\n",
      "|         1883|           French|                NULL|The American Wing|      false|         false|         1830|    4954|          Medal|       0|\n",
      "+-------------+-----------------+--------------------+-----------------+-----------+--------------+-------------+--------+---------------+--------+\n",
      "only showing top 20 rows\n",
      "\n"
     ]
    }
   ],
   "source": [
    "x = transformDataset(df)\n",
    "x.show()"
   ]
  },
  {
   "cell_type": "code",
   "execution_count": 163,
   "metadata": {},
   "outputs": [
    {
     "data": {
      "text/plain": [
       "128"
      ]
     },
     "execution_count": 163,
     "metadata": {},
     "output_type": "execute_result"
    }
   ],
   "source": [
    "gender = x.select(\"isFemale\").rdd.map(lambda x: x[0])\n",
    "gender.reduce(lambda x, y: x+y)"
   ]
  },
  {
   "cell_type": "code",
   "execution_count": 165,
   "metadata": {},
   "outputs": [
    {
     "name": "stdout",
     "output_type": "stream",
     "text": [
      "+--------------------+\n",
      "|          department|\n",
      "+--------------------+\n",
      "|         Islamic Art|\n",
      "|           Asian Art|\n",
      "|      Arms and Armor|\n",
      "|   Costume Institute|\n",
      "|Ancient Near East...|\n",
      "|        Medieval Art|\n",
      "|   The American Wing|\n",
      "|         Photographs|\n",
      "| Greek and Roman Art|\n",
      "|European Sculptur...|\n",
      "|Robert Lehman Col...|\n",
      "|       The Cloisters|\n",
      "|The Michael C. Ro...|\n",
      "| Drawings and Prints|\n",
      "|        Egyptian Art|\n",
      "| Musical Instruments|\n",
      "|       The Libraries|\n",
      "|Modern and Contem...|\n",
      "|  European Paintings|\n",
      "|                NULL|\n",
      "+--------------------+\n",
      "\n"
     ]
    }
   ],
   "source": [
    "x.select(\"department\").distinct().show()"
   ]
  },
  {
   "cell_type": "code",
   "execution_count": null,
   "metadata": {},
   "outputs": [],
   "source": []
  }
 ],
 "metadata": {
  "kernelspec": {
   "display_name": "Python 3",
   "language": "python",
   "name": "python3"
  },
  "language_info": {
   "codemirror_mode": {
    "name": "ipython",
    "version": 3
   },
   "file_extension": ".py",
   "mimetype": "text/x-python",
   "name": "python",
   "nbconvert_exporter": "python",
   "pygments_lexer": "ipython3",
   "version": "3.11.6"
  }
 },
 "nbformat": 4,
 "nbformat_minor": 2
}
