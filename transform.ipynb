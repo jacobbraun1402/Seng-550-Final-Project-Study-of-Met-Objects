{
 "cells": [
  {
   "cell_type": "code",
   "execution_count": 26,
   "metadata": {},
   "outputs": [],
   "source": [
    "from pyspark.sql import SparkSession\n",
    "import os\n",
    "import subprocess\n",
    "from pyspark.sql.functions import col, udf\n",
    "from pyspark.sql.types import IntegerType\n",
    "from pyspark.ml.feature import VectorAssembler\n",
    "# import pyspark.pandas as ps"
   ]
  },
  {
   "cell_type": "code",
   "execution_count": 2,
   "metadata": {},
   "outputs": [
    {
     "name": "stderr",
     "output_type": "stream",
     "text": [
      "24/12/18 20:52:12 WARN Utils: Your hostname, Jacobs-MacBook-Pro.local resolves to a loopback address: 127.0.0.1; using 192.168.0.104 instead (on interface en0)\n",
      "24/12/18 20:52:12 WARN Utils: Set SPARK_LOCAL_IP if you need to bind to another address\n",
      "Setting default log level to \"WARN\".\n",
      "To adjust logging level use sc.setLogLevel(newLevel). For SparkR, use setLogLevel(newLevel).\n",
      "24/12/18 20:52:13 WARN NativeCodeLoader: Unable to load native-hadoop library for your platform... using builtin-java classes where applicable\n",
      "24/12/18 20:52:13 WARN Utils: Service 'SparkUI' could not bind on port 4050. Attempting port 4051.\n"
     ]
    }
   ],
   "source": [
    "spark = SparkSession.builder.master(\"local[4]\").appName(\"Transform\").config(\"spark.ui.port\", '4050').getOrCreate()\n",
    "sc = spark.sparkContext"
   ]
  },
  {
   "cell_type": "code",
   "execution_count": 3,
   "metadata": {},
   "outputs": [],
   "source": [
    "fileName = subprocess.check_output('ls extractedDataset | grep \".*.csv\"', shell=True, text=True).removesuffix('\\n')\n",
    "path = os.getcwd() + \"/extractedDataset/\" + fileName\n",
    "df = spark.read.csv(path, header=True, nullValue='')"
   ]
  },
  {
   "cell_type": "code",
   "execution_count": 4,
   "metadata": {},
   "outputs": [
    {
     "name": "stdout",
     "output_type": "stream",
     "text": [
      "+-------------+------------+-----------------+--------------------+-----------------+-----------+--------------+-------------+--------+---------------+\n",
      "|accessionYear|artistGender|artistNationality|             culture|       department|isHighlight|isTimelineWork|objectEndDate|objectID|     objectName|\n",
      "+-------------+------------+-----------------+--------------------+-----------------+-----------+--------------+-------------+--------+---------------+\n",
      "|         1979|        NULL|         American|                NULL|The American Wing|      false|         false|         1907|      14|           Coin|\n",
      "|         1989|        NULL|         American|            American|The American Wing|      false|         false|         1814|     108|        Andiron|\n",
      "|         1946|        NULL|             NULL|                NULL|The American Wing|      false|         false|         1890|     366|         Basket|\n",
      "|         1946|        NULL|             NULL|            American|The American Wing|      false|         false|         1870|     540| Bitters bottle|\n",
      "|         1937|        NULL|             NULL|            American|The American Wing|      false|         false|         1800|     653|Bottle fragment|\n",
      "|         1946|        NULL|         American|            American|The American Wing|      false|         false|         1880|     779|           Bowl|\n",
      "|         1910|        NULL|             NULL|Chinese, for Amer...|The American Wing|      false|         false|         1790|     856|           Bowl|\n",
      "|         1910|        NULL|             NULL|Chinese, for Amer...|The American Wing|      false|         false|         1790|     867|           Bowl|\n",
      "|         1917|        NULL|             NULL|             Mexican|The American Wing|      false|         false|         1845|     895|            Cup|\n",
      "|         1883|        NULL|             NULL|                NULL|The American Wing|      false|         false|         1800|     906|            Box|\n",
      "|         1973|        NULL|             NULL|            American|The American Wing|      false|         false|         1896|    2791|            Cup|\n",
      "|         1910|        NULL|             NULL|Chinese, for Amer...|The American Wing|      false|         false|         1790|     992|    Bread plate|\n",
      "|         1934|        NULL|             NULL|            American|The American Wing|      false|         false|         1790|    1054|    Butter mold|\n",
      "|         1965|        NULL|             NULL|            American|The American Wing|      false|         false|         1820|    1906|     Side Chair|\n",
      "|         1950|        NULL|         American|            American|The American Wing|      false|         false|         1889|    1919|        Drawing|\n",
      "|         1910|        NULL|             NULL|                NULL|The American Wing|      false|         false|         1800|    2066|          Churn|\n",
      "|         1946|        NULL|             NULL|            American|The American Wing|      false|         false|         1890|    2687|      Cream pot|\n",
      "|         1969|        NULL|         American|            American|The American Wing|      false|         false|         1885|    4905| Luncheon plate|\n",
      "|         1946|        NULL|         American|            American|The American Wing|      false|         false|         1798|    4935|         Mantel|\n",
      "|         1883|        NULL|           French|                NULL|The American Wing|      false|         false|         1830|    4954|          Medal|\n",
      "+-------------+------------+-----------------+--------------------+-----------------+-----------+--------------+-------------+--------+---------------+\n",
      "only showing top 20 rows\n",
      "\n",
      "None\n"
     ]
    }
   ],
   "source": [
    "print(df.show())"
   ]
  },
  {
   "cell_type": "code",
   "execution_count": 5,
   "metadata": {},
   "outputs": [
    {
     "name": "stderr",
     "output_type": "stream",
     "text": [
      "24/12/18 20:52:26 WARN SparkStringUtils: Truncated the string representation of a plan since it was too large. This behavior can be adjusted by setting 'spark.sql.debug.maxToStringFields'.\n",
      "[Stage 2:>                                                          (0 + 1) / 1]\r"
     ]
    },
    {
     "name": "stdout",
     "output_type": "stream",
     "text": [
      "+-------+------------------+------------+-----------------+-----------------+--------------------+-----------+--------------+------------------+------------------+--------------------+\n",
      "|summary|     accessionYear|artistGender|artistNationality|          culture|          department|isHighlight|isTimelineWork|     objectEndDate|          objectID|          objectName|\n",
      "+-------+------------------+------------+-----------------+-----------------+--------------------+-----------+--------------+------------------+------------------+--------------------+\n",
      "|  count|              5028|         128|             2671|             1690|                5048|       5048|          5048|              5048|              5048|                5027|\n",
      "|   mean|1956.0318915686664|        NULL|             NULL|             NULL|                NULL|       NULL|          NULL|1411.4724643423137| 403327.7834786054|                NULL|\n",
      "| stddev| 35.73250594529043|        NULL|             NULL|             NULL|                NULL|       NULL|          NULL|  982.326369053752|246533.23984043233|                NULL|\n",
      "|    min|              1872|      Female|          Afghani|       Achaemenid|Ancient Near East...|      false|         false|                -1|             10023|\"Shield frieze\" F...|\n",
      "|    max|             Print|      Female|       Venezuelan|probably Peruvian|The Michael C. Ro...|       true|          true|               999|             99573|                Étui|\n",
      "+-------+------------------+------------+-----------------+-----------------+--------------------+-----------+--------------+------------------+------------------+--------------------+\n",
      "\n",
      "None\n"
     ]
    },
    {
     "name": "stderr",
     "output_type": "stream",
     "text": [
      "                                                                                \r"
     ]
    }
   ],
   "source": [
    "print(df.describe().show())"
   ]
  },
  {
   "cell_type": "code",
   "execution_count": 6,
   "metadata": {},
   "outputs": [],
   "source": [
    "#create custom function to convert gender column to boolean indicating if artist is female\n",
    "# 0=Male, 1=Female\n",
    "# in the database, they only store a value in the gender field if the artist is female\n",
    "# otherwise it is null\n",
    "def convertGender(s):\n",
    "    if s == 'male':\n",
    "        return 0\n",
    "    else:\n",
    "        return 1\n",
    "# register user defined functions\n",
    "convertGenderUDF = udf(lambda x:convertGender(x), IntegerType())\n",
    "\n",
    "# take artistGender column, apply user-defined function to columns and put it in new column \n",
    "def genderColumn(df):\n",
    "    # change nulls to male here because I don't know what datatype spark uses to represent nulls\n",
    "    # So I cant detect if a value is null when I'm applying convertGender to each individual value in the column\n",
    "    x = df.na.fill(value='male', subset=['artistGender'])\n",
    "    # create new column that is made from applying the custom function to the gender column\n",
    "    x = x.withColumn(\"isFemale\", convertGenderUDF(col(\"artistGender\")))\n",
    "    x = x.drop(col(\"artistGender\"))\n",
    "    return x"
   ]
  },
  {
   "cell_type": "code",
   "execution_count": 7,
   "metadata": {},
   "outputs": [],
   "source": [
    "# create dummy variables for department column\n",
    "# meaning we add a column for each department, in each of these columns,\n",
    "# the value will be 1 if that object is in that department, otherwise it is 0\n",
    "# def departmentColumn(df):\n"
   ]
  },
  {
   "cell_type": "code",
   "execution_count": 8,
   "metadata": {},
   "outputs": [],
   "source": [
    "def transformDataset(df):\n",
    "    # in the database, they only store a value in the gender field if the artist is female\n",
    "    # otherwise it is null\n",
    "    # if there are multiple artists attributed to an object, the gender of each artist is shown, separated by a '|'\n",
    "    x = genderColumn(df)\n",
    "    # change the department column to a series of dummy variables\n",
    "    # since there are a small number of distinct departments (X)\n",
    "    return x"
   ]
  },
  {
   "cell_type": "code",
   "execution_count": 10,
   "metadata": {},
   "outputs": [
    {
     "name": "stdout",
     "output_type": "stream",
     "text": [
      "+-------------+-----------------+--------------------+-----------------+-----------+--------------+-------------+--------+---------------+--------+\n",
      "|accessionYear|artistNationality|             culture|       department|isHighlight|isTimelineWork|objectEndDate|objectID|     objectName|isFemale|\n",
      "+-------------+-----------------+--------------------+-----------------+-----------+--------------+-------------+--------+---------------+--------+\n",
      "|         1979|         American|                NULL|The American Wing|      false|         false|         1907|      14|           Coin|       0|\n",
      "|         1989|         American|            American|The American Wing|      false|         false|         1814|     108|        Andiron|       0|\n",
      "|         1946|             NULL|                NULL|The American Wing|      false|         false|         1890|     366|         Basket|       0|\n",
      "|         1946|             NULL|            American|The American Wing|      false|         false|         1870|     540| Bitters bottle|       0|\n",
      "|         1937|             NULL|            American|The American Wing|      false|         false|         1800|     653|Bottle fragment|       0|\n",
      "|         1946|         American|            American|The American Wing|      false|         false|         1880|     779|           Bowl|       0|\n",
      "|         1910|             NULL|Chinese, for Amer...|The American Wing|      false|         false|         1790|     856|           Bowl|       0|\n",
      "|         1910|             NULL|Chinese, for Amer...|The American Wing|      false|         false|         1790|     867|           Bowl|       0|\n",
      "|         1917|             NULL|             Mexican|The American Wing|      false|         false|         1845|     895|            Cup|       0|\n",
      "|         1883|             NULL|                NULL|The American Wing|      false|         false|         1800|     906|            Box|       0|\n",
      "|         1973|             NULL|            American|The American Wing|      false|         false|         1896|    2791|            Cup|       0|\n",
      "|         1910|             NULL|Chinese, for Amer...|The American Wing|      false|         false|         1790|     992|    Bread plate|       0|\n",
      "|         1934|             NULL|            American|The American Wing|      false|         false|         1790|    1054|    Butter mold|       0|\n",
      "|         1965|             NULL|            American|The American Wing|      false|         false|         1820|    1906|     Side Chair|       0|\n",
      "|         1950|         American|            American|The American Wing|      false|         false|         1889|    1919|        Drawing|       0|\n",
      "|         1910|             NULL|                NULL|The American Wing|      false|         false|         1800|    2066|          Churn|       0|\n",
      "|         1946|             NULL|            American|The American Wing|      false|         false|         1890|    2687|      Cream pot|       0|\n",
      "|         1969|         American|            American|The American Wing|      false|         false|         1885|    4905| Luncheon plate|       0|\n",
      "|         1946|         American|            American|The American Wing|      false|         false|         1798|    4935|         Mantel|       0|\n",
      "|         1883|           French|                NULL|The American Wing|      false|         false|         1830|    4954|          Medal|       0|\n",
      "+-------------+-----------------+--------------------+-----------------+-----------+--------------+-------------+--------+---------------+--------+\n",
      "only showing top 20 rows\n",
      "\n"
     ]
    }
   ],
   "source": [
    "mod_df = transformDataset(df)\n",
    "mod_df.show()"
   ]
  },
  {
   "cell_type": "code",
   "execution_count": 24,
   "metadata": {},
   "outputs": [
    {
     "name": "stdout",
     "output_type": "stream",
     "text": [
      "['accessionYear', 'artistNationality', 'culture', 'department', 'isTimelineWork', 'objectEndDate', 'objectID', 'objectName', 'isFemale']\n"
     ]
    }
   ],
   "source": [
    "columns = mod_df.columns\n",
    "columns.remove('isHighlight')\n",
    "print(columns)"
   ]
  },
  {
   "cell_type": "code",
   "execution_count": 145,
   "metadata": {},
   "outputs": [
    {
     "data": {
      "text/plain": [
       "2649"
      ]
     },
     "execution_count": 145,
     "metadata": {},
     "output_type": "execute_result"
    }
   ],
   "source": [
    "# drop culture because it has a ton of nulls, I think artist nationality along with the department it's from and year\n",
    "#  it was made will still allow you to somewhat infer the culture it came from\n",
    "no_nulls = mod_df.drop('culture')\n",
    "# can't have null values in model\n",
    "no_nulls = no_nulls.dropna()\n",
    "no_nulls.count()"
   ]
  },
  {
   "cell_type": "code",
   "execution_count": 146,
   "metadata": {},
   "outputs": [],
   "source": [
    "from pyspark.ml.feature import Tokenizer\n",
    "# change strings in nationality column to list of tokens, which is just each word in the string\n",
    "nationalityTokenizer = Tokenizer(outputCol=\"nationalityWords\")\n",
    "nationalityTokenizer.setInputCol(\"artistNationality\")\n",
    "df2 = nationalityTokenizer.transform(no_nulls)"
   ]
  },
  {
   "cell_type": "code",
   "execution_count": 149,
   "metadata": {},
   "outputs": [
    {
     "name": "stdout",
     "output_type": "stream",
     "text": [
      "+-------------+-----------------+-----------------+-----------+--------------+-------------+--------+--------------------+--------+----------------+--------------------+\n",
      "|accessionYear|artistNationality|       department|isHighlight|isTimelineWork|objectEndDate|objectID|          objectName|isFemale|nationalityWords|      nationalityVec|\n",
      "+-------------+-----------------+-----------------+-----------+--------------+-------------+--------+--------------------+--------+----------------+--------------------+\n",
      "|         1979|         American|The American Wing|      false|         false|         1907|      14|                Coin|       0|      [american]|[0.05077309161424...|\n",
      "|         1989|         American|The American Wing|      false|         false|         1814|     108|             Andiron|       0|      [american]|[0.05077309161424...|\n",
      "|         1946|         American|The American Wing|      false|         false|         1880|     779|                Bowl|       0|      [american]|[0.05077309161424...|\n",
      "|         1950|         American|The American Wing|      false|         false|         1889|    1919|             Drawing|       0|      [american]|[0.05077309161424...|\n",
      "|         1969|         American|The American Wing|      false|         false|         1885|    4905|      Luncheon plate|       0|      [american]|[0.05077309161424...|\n",
      "|         1946|         American|The American Wing|      false|         false|         1798|    4935|              Mantel|       0|      [american]|[0.05077309161424...|\n",
      "|         1883|           French|The American Wing|      false|         false|         1830|    4954|               Medal|       0|        [french]|[0.07720941305160...|\n",
      "|         1983|         American|The American Wing|      false|         false|         1850|    5452|                Lamp|       0|      [american]|[0.05077309161424...|\n",
      "|         1913|         American|The American Wing|      false|         false|         1774|    4008|            Fragment|       0|      [american]|[0.05077309161424...|\n",
      "|         1946|         American|The American Wing|      false|         false|         1890|    4110|              Goblet|       0|      [american]|[0.05077309161424...|\n",
      "|         1969|         American|The American Wing|      false|         false|         1887|    3115|Demitasse cup and...|       0|      [american]|[0.05077309161424...|\n",
      "|         1967|         American|The American Wing|      false|         false|         1902|    4730|          Lamp shade|       0|      [american]|[0.05077309161424...|\n",
      "|         1883|           French|The American Wing|      false|         false|         1800|    5158|           Medallion|       0|        [french]|[0.07720941305160...|\n",
      "|         1933|         American|The American Wing|      false|         false|         1850|    5347|                 Mug|       0|      [american]|[0.05077309161424...|\n",
      "|         1933|         American|The American Wing|      false|         false|         1830|    5812|           Cream pot|       0|      [american]|[0.05077309161424...|\n",
      "|         1933|         American|The American Wing|      false|         false|         1805|    5837|           Cream pot|       0|      [american]|[0.05077309161424...|\n",
      "|         1961|         American|The American Wing|      false|         false|         1886|    5841|             Pitcher|       0|      [american]|[0.05077309161424...|\n",
      "|         1933|         American|The American Wing|      false|         false|         1820|    8723|               Tongs|       0|      [american]|[0.05077309161424...|\n",
      "|         1969|         American|The American Wing|      false|         false|         1885|    6572|             Platter|       0|      [american]|[0.05077309161424...|\n",
      "|         1913|         American|The American Wing|      false|         false|         1775|    8197|             Tankard|       0|      [american]|[0.05077309161424...|\n",
      "+-------------+-----------------+-----------------+-----------+--------------+-------------+--------+--------------------+--------+----------------+--------------------+\n",
      "only showing top 20 rows\n",
      "\n"
     ]
    }
   ],
   "source": [
    "from pyspark.ml.feature import Word2Vec\n",
    "# word2vec doesn't really extract any interesting patterns from the nationality column\n",
    "# but it does help in reducing its dimensions\n",
    "# in the bag of words approach, there were 108 dimensions\n",
    "word2vec = Word2Vec(vectorSize=5, inputCol=\"nationalityWords\", outputCol='nationalityVec', seed=123)\n",
    "m2 = word2vec.fit(df2)\n",
    "df3 = m2.transform(df2)\n",
    "df3.show()"
   ]
  },
  {
   "cell_type": "code",
   "execution_count": 159,
   "metadata": {},
   "outputs": [
    {
     "name": "stdout",
     "output_type": "stream",
     "text": [
      "+-------------+-----------------+-----------------+-----------+--------------+-------------+--------+--------------------+--------+----------------+--------------------+---------------+--------------+\n",
      "|accessionYear|artistNationality|       department|isHighlight|isTimelineWork|objectEndDate|objectID|          objectName|isFemale|nationalityWords|      nationalityVec|departmentIndex|departmentCode|\n",
      "+-------------+-----------------+-----------------+-----------+--------------+-------------+--------+--------------------+--------+----------------+--------------------+---------------+--------------+\n",
      "|         1979|         American|The American Wing|      false|         false|         1907|      14|                Coin|       0|      [american]|[0.05077309161424...|            5.0|(16,[5],[1.0])|\n",
      "|         1989|         American|The American Wing|      false|         false|         1814|     108|             Andiron|       0|      [american]|[0.05077309161424...|            5.0|(16,[5],[1.0])|\n",
      "|         1946|         American|The American Wing|      false|         false|         1880|     779|                Bowl|       0|      [american]|[0.05077309161424...|            5.0|(16,[5],[1.0])|\n",
      "|         1950|         American|The American Wing|      false|         false|         1889|    1919|             Drawing|       0|      [american]|[0.05077309161424...|            5.0|(16,[5],[1.0])|\n",
      "|         1969|         American|The American Wing|      false|         false|         1885|    4905|      Luncheon plate|       0|      [american]|[0.05077309161424...|            5.0|(16,[5],[1.0])|\n",
      "|         1946|         American|The American Wing|      false|         false|         1798|    4935|              Mantel|       0|      [american]|[0.05077309161424...|            5.0|(16,[5],[1.0])|\n",
      "|         1883|           French|The American Wing|      false|         false|         1830|    4954|               Medal|       0|        [french]|[0.07720941305160...|            5.0|(16,[5],[1.0])|\n",
      "|         1983|         American|The American Wing|      false|         false|         1850|    5452|                Lamp|       0|      [american]|[0.05077309161424...|            5.0|(16,[5],[1.0])|\n",
      "|         1913|         American|The American Wing|      false|         false|         1774|    4008|            Fragment|       0|      [american]|[0.05077309161424...|            5.0|(16,[5],[1.0])|\n",
      "|         1946|         American|The American Wing|      false|         false|         1890|    4110|              Goblet|       0|      [american]|[0.05077309161424...|            5.0|(16,[5],[1.0])|\n",
      "|         1969|         American|The American Wing|      false|         false|         1887|    3115|Demitasse cup and...|       0|      [american]|[0.05077309161424...|            5.0|(16,[5],[1.0])|\n",
      "|         1967|         American|The American Wing|      false|         false|         1902|    4730|          Lamp shade|       0|      [american]|[0.05077309161424...|            5.0|(16,[5],[1.0])|\n",
      "|         1883|           French|The American Wing|      false|         false|         1800|    5158|           Medallion|       0|        [french]|[0.07720941305160...|            5.0|(16,[5],[1.0])|\n",
      "|         1933|         American|The American Wing|      false|         false|         1850|    5347|                 Mug|       0|      [american]|[0.05077309161424...|            5.0|(16,[5],[1.0])|\n",
      "|         1933|         American|The American Wing|      false|         false|         1830|    5812|           Cream pot|       0|      [american]|[0.05077309161424...|            5.0|(16,[5],[1.0])|\n",
      "|         1933|         American|The American Wing|      false|         false|         1805|    5837|           Cream pot|       0|      [american]|[0.05077309161424...|            5.0|(16,[5],[1.0])|\n",
      "|         1961|         American|The American Wing|      false|         false|         1886|    5841|             Pitcher|       0|      [american]|[0.05077309161424...|            5.0|(16,[5],[1.0])|\n",
      "|         1933|         American|The American Wing|      false|         false|         1820|    8723|               Tongs|       0|      [american]|[0.05077309161424...|            5.0|(16,[5],[1.0])|\n",
      "|         1969|         American|The American Wing|      false|         false|         1885|    6572|             Platter|       0|      [american]|[0.05077309161424...|            5.0|(16,[5],[1.0])|\n",
      "|         1913|         American|The American Wing|      false|         false|         1775|    8197|             Tankard|       0|      [american]|[0.05077309161424...|            5.0|(16,[5],[1.0])|\n",
      "+-------------+-----------------+-----------------+-----------+--------------+-------------+--------+--------------------+--------+----------------+--------------------+---------------+--------------+\n",
      "only showing top 20 rows\n",
      "\n"
     ]
    }
   ],
   "source": [
    "#change department to one hot encoding, since this is categorical\n",
    "from pyspark.ml.feature import OneHotEncoder, StringIndexer\n",
    "stringid = StringIndexer(inputCol='department', outputCol='departmentIndex')\n",
    "m3 = stringid.fit(dataset=df3)\n",
    "df4 = m3.transform(df3)\n",
    "\n",
    "ohe = OneHotEncoder(inputCol='departmentIndex', outputCol='departmentCode')\n",
    "m4 = ohe.fit(df4)\n",
    "df5 = m4.transform(df4)\n",
    "df5.show()"
   ]
  },
  {
   "cell_type": "code",
   "execution_count": 178,
   "metadata": {},
   "outputs": [
    {
     "name": "stdout",
     "output_type": "stream",
     "text": [
      "+-------------+-----------+--------------+-------------+--------------------+--------+--------------------+--------------+\n",
      "|accessionYear|isHighlight|isTimelineWork|objectEndDate|          objectName|isFemale|      nationalityVec|departmentCode|\n",
      "+-------------+-----------+--------------+-------------+--------------------+--------+--------------------+--------------+\n",
      "|         1979|      false|         false|         1907|                Coin|       0|[0.05077309161424...|(16,[5],[1.0])|\n",
      "|         1989|      false|         false|         1814|             Andiron|       0|[0.05077309161424...|(16,[5],[1.0])|\n",
      "|         1946|      false|         false|         1880|                Bowl|       0|[0.05077309161424...|(16,[5],[1.0])|\n",
      "|         1950|      false|         false|         1889|             Drawing|       0|[0.05077309161424...|(16,[5],[1.0])|\n",
      "|         1969|      false|         false|         1885|      Luncheon plate|       0|[0.05077309161424...|(16,[5],[1.0])|\n",
      "|         1946|      false|         false|         1798|              Mantel|       0|[0.05077309161424...|(16,[5],[1.0])|\n",
      "|         1883|      false|         false|         1830|               Medal|       0|[0.07720941305160...|(16,[5],[1.0])|\n",
      "|         1983|      false|         false|         1850|                Lamp|       0|[0.05077309161424...|(16,[5],[1.0])|\n",
      "|         1913|      false|         false|         1774|            Fragment|       0|[0.05077309161424...|(16,[5],[1.0])|\n",
      "|         1946|      false|         false|         1890|              Goblet|       0|[0.05077309161424...|(16,[5],[1.0])|\n",
      "|         1969|      false|         false|         1887|Demitasse cup and...|       0|[0.05077309161424...|(16,[5],[1.0])|\n",
      "|         1967|      false|         false|         1902|          Lamp shade|       0|[0.05077309161424...|(16,[5],[1.0])|\n",
      "|         1883|      false|         false|         1800|           Medallion|       0|[0.07720941305160...|(16,[5],[1.0])|\n",
      "|         1933|      false|         false|         1850|                 Mug|       0|[0.05077309161424...|(16,[5],[1.0])|\n",
      "|         1933|      false|         false|         1830|           Cream pot|       0|[0.05077309161424...|(16,[5],[1.0])|\n",
      "|         1933|      false|         false|         1805|           Cream pot|       0|[0.05077309161424...|(16,[5],[1.0])|\n",
      "|         1961|      false|         false|         1886|             Pitcher|       0|[0.05077309161424...|(16,[5],[1.0])|\n",
      "|         1933|      false|         false|         1820|               Tongs|       0|[0.05077309161424...|(16,[5],[1.0])|\n",
      "|         1969|      false|         false|         1885|             Platter|       0|[0.05077309161424...|(16,[5],[1.0])|\n",
      "|         1913|      false|         false|         1775|             Tankard|       0|[0.05077309161424...|(16,[5],[1.0])|\n",
      "+-------------+-----------+--------------+-------------+--------------------+--------+--------------------+--------------+\n",
      "only showing top 20 rows\n",
      "\n"
     ]
    }
   ],
   "source": [
    "df5 = df5.drop('artistNationality')\n",
    "df5 = df5.drop('department')\n",
    "df5 = df5.drop('nationalityWords')\n",
    "df5 = df5.drop('departmentIndex')\n",
    "df5 = df5.drop('objectID')\n",
    "df5.show()"
   ]
  },
  {
   "cell_type": "code",
   "execution_count": 179,
   "metadata": {},
   "outputs": [],
   "source": [
    "from pyspark.sql.functions import when\n",
    "df6 = df5.withColumn('isHighlightInt', when(df5.isHighlight == True, 1).otherwise(0)).drop('isHighlight')\n",
    "df6 = df6.withColumn('isTimelineWorkInt', when(df5.isTimelineWork == True, 1).otherwise(0)).drop('isTimelineWork')"
   ]
  },
  {
   "cell_type": "code",
   "execution_count": 180,
   "metadata": {},
   "outputs": [],
   "source": [
    "# change strings in nationality column to list of tokens, which is just each word in the string\n",
    "objectNameTokenizer = Tokenizer(outputCol=\"objectNameWords\")\n",
    "objectNameTokenizer.setInputCol(\"objectName\")\n",
    "df7 = objectNameTokenizer.transform(df6)"
   ]
  },
  {
   "cell_type": "code",
   "execution_count": 181,
   "metadata": {},
   "outputs": [
    {
     "name": "stdout",
     "output_type": "stream",
     "text": [
      "+-------------+-------------+--------------------+--------+--------------------+--------------+--------------+-----------------+--------------------+--------------------+\n",
      "|accessionYear|objectEndDate|          objectName|isFemale|      nationalityVec|departmentCode|isHighlightInt|isTimelineWorkInt|     objectNameWords|       objectNameVec|\n",
      "+-------------+-------------+--------------------+--------+--------------------+--------------+--------------+-----------------+--------------------+--------------------+\n",
      "|         1979|         1907|                Coin|       0|[0.05077309161424...|(16,[5],[1.0])|             0|                0|              [coin]|[0.0,0.0,0.0,0.0,...|\n",
      "|         1989|         1814|             Andiron|       0|[0.05077309161424...|(16,[5],[1.0])|             0|                0|           [andiron]|[0.0,0.0,0.0,0.0,...|\n",
      "|         1946|         1880|                Bowl|       0|[0.05077309161424...|(16,[5],[1.0])|             0|                0|              [bowl]|[-0.0416684746742...|\n",
      "|         1950|         1889|             Drawing|       0|[0.05077309161424...|(16,[5],[1.0])|             0|                0|           [drawing]|[0.53829401731491...|\n",
      "|         1969|         1885|      Luncheon plate|       0|[0.05077309161424...|(16,[5],[1.0])|             0|                0|   [luncheon, plate]|[-0.0137707646936...|\n",
      "|         1946|         1798|              Mantel|       0|[0.05077309161424...|(16,[5],[1.0])|             0|                0|            [mantel]|[0.0,0.0,0.0,0.0,...|\n",
      "|         1883|         1830|               Medal|       0|[0.07720941305160...|(16,[5],[1.0])|             0|                0|             [medal]|[-0.0558659806847...|\n",
      "|         1983|         1850|                Lamp|       0|[0.05077309161424...|(16,[5],[1.0])|             0|                0|              [lamp]|[0.0,0.0,0.0,0.0,...|\n",
      "|         1913|         1774|            Fragment|       0|[0.05077309161424...|(16,[5],[1.0])|             0|                0|          [fragment]|[0.0,0.0,0.0,0.0,...|\n",
      "|         1946|         1890|              Goblet|       0|[0.05077309161424...|(16,[5],[1.0])|             0|                0|            [goblet]|[0.0,0.0,0.0,0.0,...|\n",
      "|         1969|         1887|Demitasse cup and...|       0|[0.05077309161424...|(16,[5],[1.0])|             0|                0|[demitasse, cup, ...|[0.05698044877499...|\n",
      "|         1967|         1902|          Lamp shade|       0|[0.05077309161424...|(16,[5],[1.0])|             0|                0|       [lamp, shade]|[0.0,0.0,0.0,0.0,...|\n",
      "|         1883|         1800|           Medallion|       0|[0.07720941305160...|(16,[5],[1.0])|             0|                0|         [medallion]|[0.05281189829111...|\n",
      "|         1933|         1850|                 Mug|       0|[0.05077309161424...|(16,[5],[1.0])|             0|                0|               [mug]|[0.0,0.0,0.0,0.0,...|\n",
      "|         1933|         1830|           Cream pot|       0|[0.05077309161424...|(16,[5],[1.0])|             0|                0|        [cream, pot]|[-0.0456454753875...|\n",
      "|         1933|         1805|           Cream pot|       0|[0.05077309161424...|(16,[5],[1.0])|             0|                0|        [cream, pot]|[-0.0456454753875...|\n",
      "|         1961|         1886|             Pitcher|       0|[0.05077309161424...|(16,[5],[1.0])|             0|                0|           [pitcher]|[0.0,0.0,0.0,0.0,...|\n",
      "|         1933|         1820|               Tongs|       0|[0.05077309161424...|(16,[5],[1.0])|             0|                0|             [tongs]|[0.0,0.0,0.0,0.0,...|\n",
      "|         1969|         1885|             Platter|       0|[0.05077309161424...|(16,[5],[1.0])|             0|                0|           [platter]|[0.0,0.0,0.0,0.0,...|\n",
      "|         1913|         1775|             Tankard|       0|[0.05077309161424...|(16,[5],[1.0])|             0|                0|           [tankard]|[0.0,0.0,0.0,0.0,...|\n",
      "+-------------+-------------+--------------------+--------+--------------------+--------------+--------------+-----------------+--------------------+--------------------+\n",
      "only showing top 20 rows\n",
      "\n"
     ]
    }
   ],
   "source": [
    "# using word2vec on objectName\n",
    "word2vecObject = Word2Vec(vectorSize=5, inputCol=\"objectNameWords\", outputCol='objectNameVec', seed=456)\n",
    "m5 = word2vecObject.fit(df7)\n",
    "df7 = m5.transform(df7)\n",
    "df7.show()"
   ]
  },
  {
   "cell_type": "code",
   "execution_count": 182,
   "metadata": {},
   "outputs": [
    {
     "name": "stdout",
     "output_type": "stream",
     "text": [
      "+-------------+-------------+--------+--------------------+--------------+--------------+-----------------+--------------------+\n",
      "|accessionYear|objectEndDate|isFemale|      nationalityVec|departmentCode|isHighlightInt|isTimelineWorkInt|       objectNameVec|\n",
      "+-------------+-------------+--------+--------------------+--------------+--------------+-----------------+--------------------+\n",
      "|         1979|         1907|       0|[0.05077309161424...|(16,[5],[1.0])|             0|                0|[0.0,0.0,0.0,0.0,...|\n",
      "|         1989|         1814|       0|[0.05077309161424...|(16,[5],[1.0])|             0|                0|[0.0,0.0,0.0,0.0,...|\n",
      "|         1946|         1880|       0|[0.05077309161424...|(16,[5],[1.0])|             0|                0|[-0.0416684746742...|\n",
      "|         1950|         1889|       0|[0.05077309161424...|(16,[5],[1.0])|             0|                0|[0.53829401731491...|\n",
      "|         1969|         1885|       0|[0.05077309161424...|(16,[5],[1.0])|             0|                0|[-0.0137707646936...|\n",
      "|         1946|         1798|       0|[0.05077309161424...|(16,[5],[1.0])|             0|                0|[0.0,0.0,0.0,0.0,...|\n",
      "|         1883|         1830|       0|[0.07720941305160...|(16,[5],[1.0])|             0|                0|[-0.0558659806847...|\n",
      "|         1983|         1850|       0|[0.05077309161424...|(16,[5],[1.0])|             0|                0|[0.0,0.0,0.0,0.0,...|\n",
      "|         1913|         1774|       0|[0.05077309161424...|(16,[5],[1.0])|             0|                0|[0.0,0.0,0.0,0.0,...|\n",
      "|         1946|         1890|       0|[0.05077309161424...|(16,[5],[1.0])|             0|                0|[0.0,0.0,0.0,0.0,...|\n",
      "|         1969|         1887|       0|[0.05077309161424...|(16,[5],[1.0])|             0|                0|[0.05698044877499...|\n",
      "|         1967|         1902|       0|[0.05077309161424...|(16,[5],[1.0])|             0|                0|[0.0,0.0,0.0,0.0,...|\n",
      "|         1883|         1800|       0|[0.07720941305160...|(16,[5],[1.0])|             0|                0|[0.05281189829111...|\n",
      "|         1933|         1850|       0|[0.05077309161424...|(16,[5],[1.0])|             0|                0|[0.0,0.0,0.0,0.0,...|\n",
      "|         1933|         1830|       0|[0.05077309161424...|(16,[5],[1.0])|             0|                0|[-0.0456454753875...|\n",
      "|         1933|         1805|       0|[0.05077309161424...|(16,[5],[1.0])|             0|                0|[-0.0456454753875...|\n",
      "|         1961|         1886|       0|[0.05077309161424...|(16,[5],[1.0])|             0|                0|[0.0,0.0,0.0,0.0,...|\n",
      "|         1933|         1820|       0|[0.05077309161424...|(16,[5],[1.0])|             0|                0|[0.0,0.0,0.0,0.0,...|\n",
      "|         1969|         1885|       0|[0.05077309161424...|(16,[5],[1.0])|             0|                0|[0.0,0.0,0.0,0.0,...|\n",
      "|         1913|         1775|       0|[0.05077309161424...|(16,[5],[1.0])|             0|                0|[0.0,0.0,0.0,0.0,...|\n",
      "+-------------+-------------+--------+--------------------+--------------+--------------+-----------------+--------------------+\n",
      "only showing top 20 rows\n",
      "\n"
     ]
    }
   ],
   "source": [
    "df8 = df7.drop('objectName')\n",
    "df8 = df8.drop('objectNameWords')\n",
    "df8.show()"
   ]
  },
  {
   "cell_type": "code",
   "execution_count": 187,
   "metadata": {},
   "outputs": [
    {
     "name": "stdout",
     "output_type": "stream",
     "text": [
      "+--------+--------------------+--------------+--------------+-----------------+--------------------+----------------+----------+\n",
      "|isFemale|      nationalityVec|departmentCode|isHighlightInt|isTimelineWorkInt|       objectNameVec|accessionYearInt|objectDate|\n",
      "+--------+--------------------+--------------+--------------+-----------------+--------------------+----------------+----------+\n",
      "|       0|[0.05077309161424...|(16,[5],[1.0])|             0|                0|[0.0,0.0,0.0,0.0,...|            1979|      1907|\n",
      "|       0|[0.05077309161424...|(16,[5],[1.0])|             0|                0|[0.0,0.0,0.0,0.0,...|            1989|      1814|\n",
      "|       0|[0.05077309161424...|(16,[5],[1.0])|             0|                0|[-0.0416684746742...|            1946|      1880|\n",
      "|       0|[0.05077309161424...|(16,[5],[1.0])|             0|                0|[0.53829401731491...|            1950|      1889|\n",
      "|       0|[0.05077309161424...|(16,[5],[1.0])|             0|                0|[-0.0137707646936...|            1969|      1885|\n",
      "|       0|[0.05077309161424...|(16,[5],[1.0])|             0|                0|[0.0,0.0,0.0,0.0,...|            1946|      1798|\n",
      "|       0|[0.07720941305160...|(16,[5],[1.0])|             0|                0|[-0.0558659806847...|            1883|      1830|\n",
      "|       0|[0.05077309161424...|(16,[5],[1.0])|             0|                0|[0.0,0.0,0.0,0.0,...|            1983|      1850|\n",
      "|       0|[0.05077309161424...|(16,[5],[1.0])|             0|                0|[0.0,0.0,0.0,0.0,...|            1913|      1774|\n",
      "|       0|[0.05077309161424...|(16,[5],[1.0])|             0|                0|[0.0,0.0,0.0,0.0,...|            1946|      1890|\n",
      "|       0|[0.05077309161424...|(16,[5],[1.0])|             0|                0|[0.05698044877499...|            1969|      1887|\n",
      "|       0|[0.05077309161424...|(16,[5],[1.0])|             0|                0|[0.0,0.0,0.0,0.0,...|            1967|      1902|\n",
      "|       0|[0.07720941305160...|(16,[5],[1.0])|             0|                0|[0.05281189829111...|            1883|      1800|\n",
      "|       0|[0.05077309161424...|(16,[5],[1.0])|             0|                0|[0.0,0.0,0.0,0.0,...|            1933|      1850|\n",
      "|       0|[0.05077309161424...|(16,[5],[1.0])|             0|                0|[-0.0456454753875...|            1933|      1830|\n",
      "|       0|[0.05077309161424...|(16,[5],[1.0])|             0|                0|[-0.0456454753875...|            1933|      1805|\n",
      "|       0|[0.05077309161424...|(16,[5],[1.0])|             0|                0|[0.0,0.0,0.0,0.0,...|            1961|      1886|\n",
      "|       0|[0.05077309161424...|(16,[5],[1.0])|             0|                0|[0.0,0.0,0.0,0.0,...|            1933|      1820|\n",
      "|       0|[0.05077309161424...|(16,[5],[1.0])|             0|                0|[0.0,0.0,0.0,0.0,...|            1969|      1885|\n",
      "|       0|[0.05077309161424...|(16,[5],[1.0])|             0|                0|[0.0,0.0,0.0,0.0,...|            1913|      1775|\n",
      "+--------+--------------------+--------------+--------------+-----------------+--------------------+----------------+----------+\n",
      "only showing top 20 rows\n",
      "\n"
     ]
    }
   ],
   "source": [
    "df8 = df8.withColumn('accessionYearInt', df8.accessionYear.cast(IntegerType())).drop('accessionYear')\\\n",
    "         .withColumn('objectDate', df8.objectEndDate.cast(IntegerType())).drop('objectEndDate')\n",
    "df8.show()"
   ]
  },
  {
   "cell_type": "code",
   "execution_count": 192,
   "metadata": {},
   "outputs": [
    {
     "name": "stdout",
     "output_type": "stream",
     "text": [
      "+--------+--------------------+--------------+--------------+-----------------+--------------------+----------------+----------+--------------------+\n",
      "|isFemale|      nationalityVec|departmentCode|isHighlightInt|isTimelineWorkInt|       objectNameVec|accessionYearInt|objectDate|            features|\n",
      "+--------+--------------------+--------------+--------------+-----------------+--------------------+----------------+----------+--------------------+\n",
      "|       0|[0.05077309161424...|(16,[5],[1.0])|             0|                0|[0.0,0.0,0.0,0.0,...|            1979|      1907|(30,[1,2,3,4,5,11...|\n",
      "|       0|[0.05077309161424...|(16,[5],[1.0])|             0|                0|[0.0,0.0,0.0,0.0,...|            1989|      1814|(30,[1,2,3,4,5,11...|\n",
      "|       0|[0.05077309161424...|(16,[5],[1.0])|             0|                0|[-0.0416684746742...|            1946|      1880|(30,[1,2,3,4,5,11...|\n",
      "|       0|[0.05077309161424...|(16,[5],[1.0])|             0|                0|[0.53829401731491...|            1950|      1889|(30,[1,2,3,4,5,11...|\n",
      "|       0|[0.05077309161424...|(16,[5],[1.0])|             0|                0|[-0.0137707646936...|            1969|      1885|(30,[1,2,3,4,5,11...|\n",
      "|       0|[0.05077309161424...|(16,[5],[1.0])|             0|                0|[0.0,0.0,0.0,0.0,...|            1946|      1798|(30,[1,2,3,4,5,11...|\n",
      "|       0|[0.07720941305160...|(16,[5],[1.0])|             0|                0|[-0.0558659806847...|            1883|      1830|(30,[1,2,3,4,5,11...|\n",
      "|       0|[0.05077309161424...|(16,[5],[1.0])|             0|                0|[0.0,0.0,0.0,0.0,...|            1983|      1850|(30,[1,2,3,4,5,11...|\n",
      "|       0|[0.05077309161424...|(16,[5],[1.0])|             0|                0|[0.0,0.0,0.0,0.0,...|            1913|      1774|(30,[1,2,3,4,5,11...|\n",
      "|       0|[0.05077309161424...|(16,[5],[1.0])|             0|                0|[0.0,0.0,0.0,0.0,...|            1946|      1890|(30,[1,2,3,4,5,11...|\n",
      "|       0|[0.05077309161424...|(16,[5],[1.0])|             0|                0|[0.05698044877499...|            1969|      1887|(30,[1,2,3,4,5,11...|\n",
      "|       0|[0.05077309161424...|(16,[5],[1.0])|             0|                0|[0.0,0.0,0.0,0.0,...|            1967|      1902|(30,[1,2,3,4,5,11...|\n",
      "|       0|[0.07720941305160...|(16,[5],[1.0])|             0|                0|[0.05281189829111...|            1883|      1800|(30,[1,2,3,4,5,11...|\n",
      "|       0|[0.05077309161424...|(16,[5],[1.0])|             0|                0|[0.0,0.0,0.0,0.0,...|            1933|      1850|(30,[1,2,3,4,5,11...|\n",
      "|       0|[0.05077309161424...|(16,[5],[1.0])|             0|                0|[-0.0456454753875...|            1933|      1830|(30,[1,2,3,4,5,11...|\n",
      "|       0|[0.05077309161424...|(16,[5],[1.0])|             0|                0|[-0.0456454753875...|            1933|      1805|(30,[1,2,3,4,5,11...|\n",
      "|       0|[0.05077309161424...|(16,[5],[1.0])|             0|                0|[0.0,0.0,0.0,0.0,...|            1961|      1886|(30,[1,2,3,4,5,11...|\n",
      "|       0|[0.05077309161424...|(16,[5],[1.0])|             0|                0|[0.0,0.0,0.0,0.0,...|            1933|      1820|(30,[1,2,3,4,5,11...|\n",
      "|       0|[0.05077309161424...|(16,[5],[1.0])|             0|                0|[0.0,0.0,0.0,0.0,...|            1969|      1885|(30,[1,2,3,4,5,11...|\n",
      "|       0|[0.05077309161424...|(16,[5],[1.0])|             0|                0|[0.0,0.0,0.0,0.0,...|            1913|      1775|(30,[1,2,3,4,5,11...|\n",
      "+--------+--------------------+--------------+--------------+-----------------+--------------------+----------------+----------+--------------------+\n",
      "only showing top 20 rows\n",
      "\n"
     ]
    }
   ],
   "source": [
    "features = df8.columns\n",
    "features.remove('isHighlightInt')\n",
    "vector = VectorAssembler(inputCols=features, outputCol='features')\n",
    "vec_train = vector.transform(df8)\n",
    "vec_train.show()"
   ]
  },
  {
   "cell_type": "code",
   "execution_count": null,
   "metadata": {},
   "outputs": [
    {
     "data": {
      "text/plain": [
       "<pyspark.ml.classification.BinaryLogisticRegressionSummary at 0x136df7690>"
      ]
     },
     "execution_count": 198,
     "metadata": {},
     "output_type": "execute_result"
    }
   ],
   "source": [
    "regularizationParam = 0.\n",
    "from pyspark.ml.classification import LogisticRegression\n",
    "logReg = LogisticRegression(labelCol='isHighlightInt')\n",
    "logReg.setRegParam(regularizationParam)\n",
    "logReg.setFeaturesCol('features')\n",
    "logReg.setProbabilityCol('probability')\n",
    "regModel = logReg.fit(vec_train)\n"
   ]
  },
  {
   "cell_type": "code",
   "execution_count": 225,
   "metadata": {},
   "outputs": [
    {
     "name": "stdout",
     "output_type": "stream",
     "text": [
      "+--------------------+-------------------+\n",
      "|           threshold|          F-Measure|\n",
      "+--------------------+-------------------+\n",
      "|  0.5006320358126095|                0.2|\n",
      "| 0.42904976266737627|0.16666666666666666|\n",
      "| 0.34437579956930786|0.14285714285714288|\n",
      "|  0.2863215411637472|               0.25|\n",
      "| 0.23990211818975604|0.33333333333333326|\n",
      "| 0.15343274382417604|                0.4|\n",
      "|  0.1492840344676416|0.36363636363636365|\n",
      "| 0.13990995668508777| 0.3333333333333333|\n",
      "| 0.13556598792045194| 0.3846153846153846|\n",
      "| 0.13497756913321268| 0.4285714285714285|\n",
      "| 0.11173487059727583|0.39999999999999997|\n",
      "| 0.10321888582207406|              0.375|\n",
      "| 0.06070314206155525| 0.3529411764705882|\n",
      "| 0.05772800416464863| 0.3333333333333333|\n",
      "|0.054508618267066655|0.31578947368421056|\n",
      "|0.032817157892538584|                0.3|\n",
      "|  0.0247140691803317| 0.2857142857142857|\n",
      "|0.022397008527390794| 0.3181818181818182|\n",
      "| 0.01676201907222752|0.30434782608695654|\n",
      "|0.014699811399649265|0.29166666666666663|\n",
      "+--------------------+-------------------+\n",
      "only showing top 20 rows\n",
      "\n"
     ]
    }
   ],
   "source": [
    "summary = regModel.summary\n",
    "summary.accuracy\n",
    "summary.fMeasureByThreshold.show()"
   ]
  },
  {
   "cell_type": "code",
   "execution_count": 170,
   "metadata": {},
   "outputs": [],
   "source": [
    "spark.stop()"
   ]
  }
 ],
 "metadata": {
  "kernelspec": {
   "display_name": "Python 3",
   "language": "python",
   "name": "python3"
  },
  "language_info": {
   "codemirror_mode": {
    "name": "ipython",
    "version": 3
   },
   "file_extension": ".py",
   "mimetype": "text/x-python",
   "name": "python",
   "nbconvert_exporter": "python",
   "pygments_lexer": "ipython3",
   "version": "3.11.6"
  }
 },
 "nbformat": 4,
 "nbformat_minor": 2
}
